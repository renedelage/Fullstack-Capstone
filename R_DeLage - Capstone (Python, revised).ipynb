{
 "cells": [
  {
   "cell_type": "code",
   "execution_count": null,
   "id": "c3eaa38f-f044-44de-b829-1eedd14298b5",
   "metadata": {},
   "outputs": [],
   "source": [
    "import pandas as pd\n",
    "import numpy as np\n",
    "import matplotlib.pyplot as plt\n",
    "import seaborn as sns\n",
    "from scipy.stats import chi2_contingency"
   ]
  },
  {
   "cell_type": "markdown",
   "id": "f4cd9f3a-37f2-4591-b2b8-46edfcc17f7f",
   "metadata": {},
   "source": [
    "### General Data Overview\n",
    "- Check first few rows of data\n",
    "- Check the data types of each column\n",
    "- Check for any missing values in the dataset"
   ]
  },
  {
   "cell_type": "code",
   "execution_count": null,
   "id": "f4dd35d8-4e2f-484f-b345-342ce6cf26b9",
   "metadata": {},
   "outputs": [],
   "source": [
    "df = pd.read_csv('clean_marketing_campaign.csv')\n",
    "df.head()"
   ]
  },
  {
   "cell_type": "code",
   "execution_count": null,
   "id": "73f0f953-cd61-46bc-a922-c58f57ac2170",
   "metadata": {},
   "outputs": [],
   "source": [
    "df.info()\n",
    "print('No null values observed in (cleaned) dataset.')"
   ]
  },
  {
   "cell_type": "markdown",
   "id": "18fd34cc-fac6-4cd9-abb4-b3f5f0740c23",
   "metadata": {},
   "source": [
    "### Descriptive Statistics\n",
    "- Compute summary statistics for numerial columns\n",
    "- Explore the distribution of numerical values using histograms or box plots"
   ]
  },
  {
   "cell_type": "code",
   "execution_count": null,
   "id": "1941d1ed-8505-4e7c-b944-1d77cb3c50c2",
   "metadata": {},
   "outputs": [],
   "source": [
    "df.describe()"
   ]
  },
  {
   "cell_type": "markdown",
   "id": "f2db5865-8fdd-4d62-854e-9c9ab135a69a",
   "metadata": {},
   "source": [
    "- Some possible anomalies observed in Year_Birth and Age (i.e. born in 1893 not likely).\n",
    "- Z_CostContact and Z-Revenue columns seem to all contain the same values, so likely not relevant for analysis."
   ]
  },
  {
   "cell_type": "code",
   "execution_count": null,
   "id": "c9b0cd1f-fdff-443e-b318-d50baf6303ba",
   "metadata": {},
   "outputs": [],
   "source": [
    "sns.boxplot(y=df['Year_Birth'])\n",
    "plt.title('Birth Year Box Plot')\n",
    "plt.show()\n",
    "print('Median birth year appears to be around 1972, with some outliers around 1900 (likely errors and not relevant to data analysis).')\n",
    "sns.boxplot(y=df['Income'])\n",
    "plt.title('Income Box Plot')\n",
    "plt.show()\n",
    "print('Most incomes fall between 40-70k, with a few outliers around the 150k mark (not concerning), but there is one outlier over 600k, which may be erroneous.')\n",
    "sns.boxplot(y=df['Recency'])\n",
    "plt.title('Recency Box Plot')\n",
    "plt.show()\n",
    "print('Median recency is around 50; no outliers observed.')\n",
    "sns.boxplot(y=df['MntWines'])\n",
    "plt.title('Wine Sold Box Plot')\n",
    "plt.show()\n",
    "sns.boxplot(y=df['MntFruits'])\n",
    "plt.title('Fruit Sold Box Plot')\n",
    "plt.show()\n",
    "sns.boxplot(y=df['MntMeatProducts'])\n",
    "plt.title('Meat Products Sold Box Plot')\n",
    "plt.show()\n",
    "sns.boxplot(y=df['MntFishProducts'])\n",
    "plt.title('Fish Products Sold Box Plot')\n",
    "plt.show()\n",
    "sns.boxplot(y=df['MntSweetProducts'])\n",
    "plt.title('Sweet Products Sold Box Plot')\n",
    "plt.show()\n",
    "sns.boxplot(y=df['MntGoldProds'])\n",
    "plt.title('Gold Products Sold Box Plot')\n",
    "plt.show()\n",
    "print('Majority of orders for all products had a multitude of outliers well above the expected range.')\n",
    "sns.boxplot(y=df['NumDealsPurchases'])\n",
    "plt.title('Deals Purchased Box Plot')\n",
    "plt.show()\n",
    "print('Median deal acceptance per customer was 2, but several outliers observed ranging from 7 to 15 deals purchased!')\n",
    "sns.boxplot(y=df['NumWebPurchases'])\n",
    "plt.title('Web Purchases Box Plot')\n",
    "plt.show()\n",
    "sns.boxplot(y=df['NumCatalogPurchases'])\n",
    "plt.title('Catalog Purchases Box Plot')\n",
    "plt.show()\n",
    "sns.boxplot(y=df['NumStorePurchases'])\n",
    "plt.title('Store Purchases Box Plot')\n",
    "plt.show()\n",
    "print('Average store purchases greatly outweighed both catalog and web purchases.')\n",
    "sns.boxplot(y=df['NumWebVisitsMonth'])\n",
    "plt.title('Monthly Web Visits Box Plot')\n",
    "plt.show()\n",
    "print('Majority of customers visited the website ana verage 6 times monthly, though some customers visited more frequently, as much as 20 times monthly.')\n",
    "sns.boxplot(y=df['Z_CostContact'])\n",
    "plt.title('Contact Cost Box Plot')\n",
    "plt.show()\n",
    "print('Irrelevant, as all values were the same.')\n",
    "sns.boxplot(y=df['Z_Revenue'])\n",
    "plt.title('Revenue Box Plot')\n",
    "plt.show()\n",
    "print('Irrelevant, as all values were the same.')\n",
    "sns.boxplot(y=df['Age'])\n",
    "plt.title('Age Box Plot')\n",
    "plt.show()\n",
    "print('Majroity of customers appear to be between 50 and 65 years of age. A handful of outliers were observed, all above age 120.')"
   ]
  },
  {
   "cell_type": "markdown",
   "id": "78f7792b-8c6e-476e-88b1-c619d771dab5",
   "metadata": {},
   "source": [
    "### Univariate Analysis\n",
    "- Explore the distribution of each numerical variable using histograms or kernel density plots\n",
    "- Explore the distribution of each categorical variable using bar plots or pie charts\n",
    "- Identify outliers in numerical variables using box plots or scatter plots"
   ]
  },
  {
   "cell_type": "code",
   "execution_count": null,
   "id": "3011a9b7-9935-41c4-9c19-507edfb6f52a",
   "metadata": {},
   "outputs": [],
   "source": [
    "sns.kdeplot(data=df, x='Year_Birth', fill=True)\n",
    "plt.title('Birth Year Kernel Density')\n",
    "plt.show()\n",
    "print('Fairly normal distribution observed, with highest density observed around 1975.')\n",
    "sns.kdeplot(data=df, x='Income', fill=True)\n",
    "plt.title('Income Kernel Density')\n",
    "plt.show()\n",
    "print('Fairly normal distribution observed.')\n",
    "sns.kdeplot(data=df, x='Recency', fill=True)\n",
    "plt.title('Recency Kernel Density')\n",
    "plt.show()\n",
    "print('Wide range of values observed, but all fairly evenly distributed.')\n",
    "sns.kdeplot(data=df, x='MntWines', fill=True)\n",
    "plt.title('Wine Sales Kernel Density')\n",
    "plt.show()\n",
    "sns.kdeplot(data=df, x='MntFruits', fill=True)\n",
    "plt.title('Fruit Sales Kernel Density')\n",
    "plt.show()\n",
    "sns.kdeplot(data=df, x='MntMeatProducts', fill=True)\n",
    "plt.title('Meat Product Sales Kernel Density')\n",
    "plt.show()\n",
    "sns.kdeplot(data=df, x='MntFishProducts', fill=True)\n",
    "plt.title('Fish Product Sales Kernel Density')\n",
    "plt.show()\n",
    "sns.kdeplot(data=df, x='MntSweetProducts', fill=True)\n",
    "plt.title('Sweet Product Sales Kernel Density')\n",
    "plt.show()\n",
    "sns.kdeplot(data=df, x='MntGoldProds', fill=True)\n",
    "plt.title('Gold Product Sales Kernel Density')\n",
    "plt.show()\n",
    "print('All products show a fairly even distribution for smaller order quantities, and distribution tapers off as order quantity increases.')\n",
    "sns.kdeplot(data=df, x='NumDealsPurchases', fill=True)\n",
    "plt.title('Deal Purchases Kernel Density')\n",
    "plt.show()\n",
    "print('Highest distribution observed around 2 deals purchased, but several instances above that, tapering off to about 10.')\n",
    "sns.kdeplot(data=df, x='NumWebPurchases', fill=True)\n",
    "plt.title('Web Purchases Kernel Density')\n",
    "plt.show()\n",
    "sns.kdeplot(data=df, x='NumCatalogPurchases', fill=True)\n",
    "plt.title('Catalog Purchases Kernel Density')\n",
    "plt.show()\n",
    "sns.kdeplot(data=df, x='NumStorePurchases', fill=True)\n",
    "plt.title('Store Purchases Kernel Density')\n",
    "plt.show()\n",
    "print('Sales through different channels showed a somewhat skewed distribution, though Store purchases definitely showed a broader and higher range of marks.')\n",
    "sns.kdeplot(data=df, x='NumWebVisitsMonth', fill=True)\n",
    "plt.title('Monthly Web Visits Kernel Density')\n",
    "plt.show()\n",
    "sns.kdeplot(data=df, x='NumDealsPurchases', fill=True)\n",
    "plt.title('Deal Purchases Kernel Density')\n",
    "plt.show()\n",
    "print('Highest density observed at 2 deals purchased, with distribution tapering off approaching 8, and then nearly flat approaching 15.')\n",
    "sns.kdeplot(data=df, x='Z_CostContact', fill=True)\n",
    "plt.title('Contact Cost Kernel Density')\n",
    "plt.show()\n",
    "print('Irrelevant.')\n",
    "sns.kdeplot(data=df, x='Z_Revenue', fill=True)\n",
    "plt.title('Revenue Kernel Density')\n",
    "plt.show()\n",
    "print('Irrelevant.')\n",
    "sns.kdeplot(data=df, x='Age', fill=True)\n",
    "plt.title('Age Kernel Density')\n",
    "plt.show()\n",
    "print('Slightly skewed, but near normal distribution of ages observed.')"
   ]
  },
  {
   "cell_type": "code",
   "execution_count": null,
   "id": "6de6ce4f-5697-4ecd-b5ba-58b273233688",
   "metadata": {},
   "outputs": [],
   "source": [
    "education = pd.pivot_table(df, values='ID', columns='Education', aggfunc='count')\n",
    "sns.barplot(data=education)\n",
    "plt.title('Education Counts')\n",
    "plt.show()\n",
    "marital = pd.pivot_table(df, values='ID', columns='Marital_Status', aggfunc='count')\n",
    "sns.barplot(data=marital)\n",
    "plt.title('Marital Status Counts')\n",
    "plt.show()\n",
    "print('The vast majroity of customers are couples with a college degree.')"
   ]
  },
  {
   "cell_type": "code",
   "execution_count": null,
   "id": "cf15cce5-f818-4853-a4de-96df086e21ca",
   "metadata": {},
   "outputs": [],
   "source": [
    "sns.scatterplot(df['Year_Birth'])\n",
    "plt.title('Birth Year Scatter Plot')\n",
    "plt.show()\n",
    "print('Healthy spread of birth years with an expected distribution, with only 3 exceptions.')\n",
    "sns.scatterplot(df['Income'])\n",
    "plt.title('Income Scatter Plot')\n",
    "plt.show()\n",
    "print('Vast majority of incomes fell within a normal range, with only a few slightly outside of it and 1 outlier.')\n",
    "sns.scatterplot(df['Recency'])\n",
    "plt.title('Recency Scatter Plot')\n",
    "plt.show()\n",
    "print('Wide range of values observed.')\n",
    "sns.scatterplot(df['MntWines'])\n",
    "plt.title('Wine Sold Scatter Plot')\n",
    "plt.show()\n",
    "sns.scatterplot(df['MntFruits'])\n",
    "plt.title('Fruit Sold Scatter Plot')\n",
    "plt.show()\n",
    "sns.scatterplot(df['MntMeatProducts'])\n",
    "plt.title('Meat Products Sold Scatter Plot')\n",
    "plt.show()\n",
    "sns.scatterplot(df['MntFishProducts'])\n",
    "plt.title('Fish Products Sold Scatter Plot')\n",
    "plt.show()\n",
    "sns.scatterplot(df['MntSweetProducts'])\n",
    "plt.title('Sweet Products Sold Scatter Plot')\n",
    "plt.show()\n",
    "sns.scatterplot(df['MntGoldProds'])\n",
    "plt.title('Gold Products Sold Scatter Plot')\n",
    "plt.show()\n",
    "print('All products showed a similar distribution of quantities sold, with wine and meat products outperforming all other categories.')\n",
    "sns.scatterplot(df['NumDealsPurchases'])\n",
    "plt.title('Deals Purchased Scatter Plot')\n",
    "plt.show()\n",
    "print('Majority of customers accepted 6 or fewer deals, with a healthy amount of customers accepting even more.')\n",
    "sns.scatterplot(df['NumWebPurchases'])\n",
    "plt.title('Web Purchases Scatter Plot')\n",
    "plt.show()\n",
    "sns.scatterplot(df['NumCatalogPurchases'])\n",
    "plt.title('Catalog Purchases Scatter Plot')\n",
    "plt.show()\n",
    "sns.scatterplot(df['NumStorePurchases'])\n",
    "plt.title('Store Purchases Scatter Plot')\n",
    "plt.show()\n",
    "print('Catalog and web purchases were about the same, while store purchases varied more and also showed more popularity.')\n",
    "sns.scatterplot(df['NumWebVisitsMonth'])\n",
    "plt.title('Monthly Web Visits Scatter Plot')\n",
    "plt.show()\n",
    "print('Majority of customers had 9 or fewer web visits monthly, though several customers did visit a little more frequently.')\n",
    "sns.scatterplot(df['Z_CostContact'])\n",
    "plt.title('Contact Cost Scatter Plot')\n",
    "plt.show()\n",
    "print('Only one value observed: 3.')\n",
    "sns.scatterplot(df['Z_Revenue'])\n",
    "plt.title('Revenue Scatter Plot')\n",
    "plt.show()\n",
    "print('Only one value observed: 11.')\n",
    "sns.scatterplot(df['Age'])\n",
    "plt.title('Age Scatter Plot')\n",
    "plt.show()\n",
    "print('Healthy spread of ages with an expected distribution, with only 3 exceptions.')"
   ]
  },
  {
   "cell_type": "markdown",
   "id": "e00bcef5-310e-4e98-bf0f-9fd5f92eac31",
   "metadata": {},
   "source": [
    "### Bivariate Analysis\n",
    "- Explore the relationship between numerical variables and the target variable (Response) using scatter plots or correlation matrices\n",
    "- Explore the relationship between categorical variables and the target variable using bar plots or chi-square tests\n",
    "- Explore the relationship between numerical and categorical variables using box plots or violin plots"
   ]
  },
  {
   "cell_type": "code",
   "execution_count": null,
   "id": "106b6f37-530f-4c3d-8a52-d0128b865ac9",
   "metadata": {},
   "outputs": [],
   "source": [
    "df.corr(numeric_only=True)"
   ]
  },
  {
   "cell_type": "markdown",
   "id": "9e8f40c1-d585-4d5f-8f67-92e50a9eed66",
   "metadata": {},
   "source": [
    "#### No relevant correlation observed between any numerical category and Response"
   ]
  },
  {
   "cell_type": "code",
   "execution_count": null,
   "id": "b2d59517-36ad-4c59-95eb-54e9125d5dad",
   "metadata": {},
   "outputs": [],
   "source": [
    "sns.barplot(data=df, y='Response', hue='Marital_Status')\n",
    "plt.title('Response by Marital Status')\n",
    "plt.show()\n",
    "sns.barplot(data=df, y='Response', hue='Education')\n",
    "plt.title('Response by Education')\n",
    "plt.show()"
   ]
  },
  {
   "cell_type": "code",
   "execution_count": null,
   "id": "b19bf631-d18a-4b69-a1c2-c2ad08f3f7f5",
   "metadata": {},
   "outputs": [],
   "source": [
    "cont_table = pd.crosstab(df['Marital_Status'], df['Response'])\n",
    "\n",
    "print(cont_table)"
   ]
  },
  {
   "cell_type": "code",
   "execution_count": null,
   "id": "bb64536b-ae42-4730-9d0f-8cf4155f5721",
   "metadata": {},
   "outputs": [],
   "source": [
    "chi2, p, dof, expected = chi2_contingency(cont_table)\n",
    "print(\"Chi-square statistic:\", chi2)\n",
    "print(\"P-value:\", p)\n",
    "print(\"Degrees of freedom:\", dof)\n",
    "print(\"Expected frequencies table:\\n\", expected)\n",
    "\n",
    "alpha = 0.05\n",
    "if p <= alpha:\n",
    "    print('Reject the null hypothesis.\\nNo Correlation between Marital Status and Response.')\n",
    "else:\n",
    "    print('Fail to reject the null hypothesis.\\nMarital Status appears to have impact on Response.')"
   ]
  },
  {
   "cell_type": "code",
   "execution_count": null,
   "id": "fec6115c-c3ec-4337-8ff0-ebedf0a8fac4",
   "metadata": {},
   "outputs": [],
   "source": [
    "cont_table2 = pd.crosstab(df['Education'], df['Response'])\n",
    "\n",
    "print(cont_table2)"
   ]
  },
  {
   "cell_type": "code",
   "execution_count": null,
   "id": "d4e4c348-a48e-4f18-a418-537ca7209aec",
   "metadata": {},
   "outputs": [],
   "source": [
    "chi2, p, dof, expected = chi2_contingency(cont_table2)\n",
    "print(\"Chi-square statistic:\", chi2)\n",
    "print(\"P-value:\", p)\n",
    "print(\"Degrees of freedom:\", dof)\n",
    "print(\"Expected frequencies table:\\n\", expected)\n",
    "\n",
    "alpha = 0.05\n",
    "if p <= alpha:\n",
    "    print('Reject the null hypothesis.\\nNo Correlation between Education and Response.')\n",
    "else:\n",
    "    print('Fail to reject the null hypothesis.\\nEducation appears to have impact on Response.')"
   ]
  },
  {
   "cell_type": "code",
   "execution_count": null,
   "id": "07f8a5f6-efcd-4342-bbb3-c8f621852663",
   "metadata": {},
   "outputs": [],
   "source": [
    "sns.violinplot(data=df, y='Income', hue='Education')\n",
    "plt.title('Income by Education')\n",
    "plt.show()\n",
    "print('No significant different in average income based on Education, except for those with a basic education, which had a lower average income.')\n",
    "sns.violinplot(data=df, y='Income', hue='Marital_Status')\n",
    "plt.title('Income by Marital Status')\n",
    "plt.show()\n",
    "print('No significant difference in average income based on Marital Status. Though the few that felt marital status is \"absurd\" appear to have a slightly higher average income.')"
   ]
  },
  {
   "cell_type": "code",
   "execution_count": null,
   "id": "80404909-ee8d-440c-be2e-031b90e92308",
   "metadata": {},
   "outputs": [],
   "source": [
    "df.info()"
   ]
  },
  {
   "cell_type": "code",
   "execution_count": null,
   "id": "61bdaf2e-36d2-4108-8db7-ecd95bac4f2c",
   "metadata": {},
   "outputs": [],
   "source": [
    "sns.violinplot(data=df, y='Kidhome', hue='Marital_Status')\n",
    "plt.title('Kids in Home by Marital Status')\n",
    "plt.show()\n",
    "sns.violinplot(data=df, y='Teenhome', hue='Marital_Status')\n",
    "plt.title('Teens in Home by Marital Status')\n",
    "plt.show()"
   ]
  },
  {
   "cell_type": "markdown",
   "id": "10c0b0c1-591e-4752-853c-140ed8bcbac4",
   "metadata": {},
   "source": [
    "- Appears that most customers do not have kids in their home, and those that do mostly had only 1, with just a few reporting 2 in the home.\n",
    "- Appears as though more customers had teens in the home, which supports a predominantly middle-aged demographic.\n",
    "- Marital status does not appear to have a significant impact on whether or not customers have kids or teens in the home."
   ]
  },
  {
   "cell_type": "code",
   "execution_count": null,
   "id": "3aacd695-eea7-47d0-8b76-8e0a7ea84a4d",
   "metadata": {},
   "outputs": [],
   "source": [
    "sns.violinplot(data=df, y='Kidhome', hue='Education')\n",
    "plt.title('Kids in Home by Education')\n",
    "plt.show()\n",
    "sns.violinplot(data=df, y='Teenhome', hue='Education')\n",
    "plt.title('Teens in Home by Education')\n",
    "plt.show()"
   ]
  },
  {
   "cell_type": "markdown",
   "id": "3773c0ef-d310-4ee5-8b0e-152013c97b6b",
   "metadata": {},
   "source": [
    "- Education level does not appear to have an impact on whether or not customers have children in the home.\n",
    "- Customers with a college education appear to be more likely to have teens in the home."
   ]
  },
  {
   "cell_type": "code",
   "execution_count": null,
   "id": "affdcbb7-bfea-47b6-9dac-8aa259c50831",
   "metadata": {},
   "outputs": [],
   "source": [
    "sns.violinplot(data=df, y='AcceptedCmp1', hue='Marital_Status')\n",
    "plt.title('Campaign 1 Success by Marital Status')\n",
    "plt.show()\n",
    "campaign1pivot = pd.pivot_table(df, values='AcceptedCmp1', columns='Marital_Status', aggfunc='sum')\n",
    "display(campaign1pivot)\n",
    "sns.violinplot(data=df, y='AcceptedCmp2', hue='Marital_Status')\n",
    "plt.title('Campaign 2 Success by Marital Status')\n",
    "plt.show()\n",
    "campaign2pivot = pd.pivot_table(df, values='AcceptedCmp2', columns='Marital_Status', aggfunc='sum')\n",
    "display(campaign2pivot)\n",
    "sns.violinplot(data=df, y='AcceptedCmp3', hue='Marital_Status')\n",
    "plt.title('Campaign 3 Success by Marital Status')\n",
    "plt.show()\n",
    "campaign3pivot = pd.pivot_table(df, values='AcceptedCmp3', columns='Marital_Status', aggfunc='sum')\n",
    "display(campaign3pivot)\n",
    "sns.violinplot(data=df, y='AcceptedCmp4', hue='Marital_Status')\n",
    "plt.title('Campaign 4 Success by Marital Status')\n",
    "plt.show()\n",
    "campaign4pivot = pd.pivot_table(df, values='AcceptedCmp4', columns='Marital_Status', aggfunc='sum')\n",
    "display(campaign4pivot)\n",
    "sns.violinplot(data=df, y='AcceptedCmp5', hue='Marital_Status')\n",
    "plt.title('Campaign 5 Success by Marital Status')\n",
    "plt.show()\n",
    "campaign5pivot = pd.pivot_table(df, values='AcceptedCmp5', columns='Marital_Status', aggfunc='sum')\n",
    "display(campaign5pivot)"
   ]
  },
  {
   "cell_type": "markdown",
   "id": "a7d2b69f-cdac-4f05-afa8-2cdbe020e64f",
   "metadata": {},
   "source": [
    "Campaigns performed proportionally equal based on Marital Status."
   ]
  },
  {
   "cell_type": "code",
   "execution_count": null,
   "id": "3c8c9767-cdcc-40dc-b925-1908a0f3d378",
   "metadata": {},
   "outputs": [],
   "source": [
    "sns.violinplot(data=df, y='AcceptedCmp1', hue='Education')\n",
    "plt.title('Campaign 1 Success by Education')\n",
    "plt.show()\n",
    "campaign1pivot = pd.pivot_table(df, values='AcceptedCmp1', columns='Education', aggfunc='sum')\n",
    "display(campaign1pivot)\n",
    "sns.violinplot(data=df, y='AcceptedCmp2', hue='Education')\n",
    "plt.title('Campaign 2 Success by Education')\n",
    "plt.show()\n",
    "campaign2pivot = pd.pivot_table(df, values='AcceptedCmp2', columns='Education', aggfunc='sum')\n",
    "display(campaign2pivot)\n",
    "sns.violinplot(data=df, y='AcceptedCmp3', hue='Education')\n",
    "plt.title('Campaign 3 Success by Education')\n",
    "plt.show()\n",
    "campaign3pivot = pd.pivot_table(df, values='AcceptedCmp3', columns='Education', aggfunc='sum')\n",
    "display(campaign3pivot)\n",
    "sns.violinplot(data=df, y='AcceptedCmp4', hue='Education')\n",
    "plt.title('Campaign 4 Success by Education')\n",
    "plt.show()\n",
    "campaign4pivot = pd.pivot_table(df, values='AcceptedCmp4', columns='Education', aggfunc='sum')\n",
    "display(campaign4pivot)\n",
    "sns.violinplot(data=df, y='AcceptedCmp5', hue='Education')\n",
    "plt.title('Campaign 5 Success by Education')\n",
    "plt.show()\n",
    "campaign5pivot = pd.pivot_table(df, values='AcceptedCmp5', columns='Education', aggfunc='sum')\n",
    "display(campaign5pivot)"
   ]
  },
  {
   "cell_type": "markdown",
   "id": "aeebe90a-7725-472b-9919-74d7ebe1d0dc",
   "metadata": {},
   "source": [
    "Campaigns performed proportinately equal based on Education Level."
   ]
  },
  {
   "cell_type": "code",
   "execution_count": null,
   "id": "311d7c83-2a73-47ce-bb35-d9a831d2f6b5",
   "metadata": {},
   "outputs": [],
   "source": [
    "campaigns = {'Campaign' : ['Campaign 1', 'Campaign 2', 'Campaign 3', 'Campaign 4', 'Campaign 5'], \n",
    "             'Hits': [df['AcceptedCmp1'].sum(), df['AcceptedCmp2'].sum(), df['AcceptedCmp3'].sum(), df['AcceptedCmp4'].sum(), df['AcceptedCmp5'].sum()]}\n",
    "camptable = pd.DataFrame(campaigns)\n",
    "display(camptable)\n",
    "sns.barplot(data=camptable, x='Campaign', y='Hits', hue='Campaign')\n",
    "plt.title('Campaign Success')\n",
    "plt.show()"
   ]
  },
  {
   "cell_type": "code",
   "execution_count": null,
   "id": "46e27a82-0292-4a11-9056-7db23d113d78",
   "metadata": {},
   "outputs": [],
   "source": [
    "sales = {'Product' : ['Wines', 'Fruits', 'Meat Products', 'Fish Products', 'Sweet Products', 'Gold Products'],\n",
    "        'Quantity Sold' : [df['MntWines'].sum(), df['MntFruits'].sum(), df['MntMeatProducts'].sum(), df['MntFishProducts'].sum(), df['MntSweetProducts'].sum(), df['MntGoldProds'].sum()]}\n",
    "salestable = pd.DataFrame(sales)\n",
    "display(salestable)\n",
    "sns.barplot(data=salestable, x='Product', y='Quantity Sold', hue='Product')\n",
    "plt.title('Products Sold')\n",
    "plt.show()"
   ]
  },
  {
   "cell_type": "markdown",
   "id": "a9bb7b9d-baf9-40a4-96a7-8448ba1294be",
   "metadata": {},
   "source": [
    "### Observations\n",
    "- Write an analysis report on performing EDA using Python in the context of building a fraud detection system for Retail Analyitcs\n",
    "- (pretty sure this capstone had nothing to do with fraud detection...)"
   ]
  },
  {
   "cell_type": "code",
   "execution_count": null,
   "id": "4070ef16-8d27-4849-a572-b33f2c46ca86",
   "metadata": {},
   "outputs": [],
   "source": [
    "print('''The dataset was imported without any null values. The only null values previously found were only in the income column, and they were replaced with the average income.\n",
    "Overall, income levels of our customers were fairly consistent with the exception of 1 outlier, and a few that were somewhat above the average.\n",
    "The average age of our customers is about 55, with the majority of them falling between the ages of 50 and 65.\n",
    "Additionally, the majority of our customers are college graduates, and about a third pursued post-graduate education.\n",
    "The largest portion of our customers are either married or together. \n",
    "\n",
    "Of the 5 marketing campaigns that were observed, all did fairly well except for Campaign 2.\n",
    "Overall, campaign performances were proportionate to the distribution of our customer base for both marital status and education level.\n",
    "Amoung our post-graduate customers, those with PHD's responded most favorably.\n",
    "Those with a basic education did not respond well to any marketing campaigns.\n",
    "\n",
    "Further analysis of the marketing campaigns will be necessary to determine what made Campaign 4 so successful, and to determine why Campaign 2 was unsuccessful.\n",
    "Marketing efforts should be geared towards college-educated couples around 50 to 60 years of age.\n",
    "Marketing efforts should continue to focus most on our wines and meat products. \n",
    "It would be prudent to consider other products that go well with wine as that is our best performing product.\n",
    "''')"
   ]
  },
  {
   "cell_type": "code",
   "execution_count": null,
   "id": "c64ca442-0636-4e40-bfe9-e2fb05d43e38",
   "metadata": {},
   "outputs": [],
   "source": []
  }
 ],
 "metadata": {
  "kernelspec": {
   "display_name": "Python [conda env:base] *",
   "language": "python",
   "name": "conda-base-py"
  },
  "language_info": {
   "codemirror_mode": {
    "name": "ipython",
    "version": 3
   },
   "file_extension": ".py",
   "mimetype": "text/x-python",
   "name": "python",
   "nbconvert_exporter": "python",
   "pygments_lexer": "ipython3",
   "version": "3.12.7"
  }
 },
 "nbformat": 4,
 "nbformat_minor": 5
}
